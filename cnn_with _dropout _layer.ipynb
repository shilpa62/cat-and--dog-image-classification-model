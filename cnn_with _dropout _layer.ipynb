{
 "cells": [
  {
   "cell_type": "markdown",
   "metadata": {},
   "source": [
    "# Classification model using Convolution neural network\n",
    "###  - cnn model with dropout layer  "
   ]
  },
  {
   "cell_type": "code",
   "execution_count": 1,
   "metadata": {},
   "outputs": [],
   "source": [
    "import cv2\n",
    "from os import listdir\n",
    "import numpy as np\n",
    "\n",
    "from numpy import save"
   ]
  },
  {
   "cell_type": "code",
   "execution_count": 2,
   "metadata": {},
   "outputs": [],
   "source": [
    "#load images and labels array"
   ]
  },
  {
   "cell_type": "code",
   "execution_count": 3,
   "metadata": {},
   "outputs": [],
   "source": [
    "images=np.load('dogs_vs_cats_photos3.npy')\n",
    "labels=np.load('dogs_vs_cats_labels3.npy')"
   ]
  },
  {
   "cell_type": "code",
   "execution_count": 4,
   "metadata": {},
   "outputs": [],
   "source": [
    "#import train_test_split function to divide data into train and test part\n",
    "from sklearn.model_selection import train_test_split"
   ]
  },
  {
   "cell_type": "code",
   "execution_count": 5,
   "metadata": {},
   "outputs": [],
   "source": [
    "# divide 90% of data into train part and 10% into test part\n",
    "x_train,x_test, y_train,y_test=train_test_split(images, labels,test_size=0.1, random_state=4)"
   ]
  },
  {
   "cell_type": "code",
   "execution_count": 6,
   "metadata": {},
   "outputs": [
    {
     "name": "stdout",
     "output_type": "stream",
     "text": [
      "train_data_images_shape: (9000, 100, 100, 3)\n",
      "test_data_images_shape: (1000, 100, 100, 3)\n",
      "train_data_labels_shape: (9000,)\n",
      "test_data_labels_shape: (1000,)\n"
     ]
    }
   ],
   "source": [
    "#shapes of data\n",
    "print(\"train_data_images_shape:\",x_train.shape)\n",
    "print(\"test_data_images_shape:\",x_test.shape)\n",
    "print(\"train_data_labels_shape:\",y_train.shape)\n",
    "print(\"test_data_labels_shape:\",y_test.shape)\n"
   ]
  },
  {
   "cell_type": "code",
   "execution_count": 7,
   "metadata": {},
   "outputs": [],
   "source": [
    "x_train= x_train.astype(\"float\")/255.0\n",
    "x_test=x_test.astype(\"float\")/255.0"
   ]
  },
  {
   "cell_type": "code",
   "execution_count": 8,
   "metadata": {},
   "outputs": [
    {
     "name": "stderr",
     "output_type": "stream",
     "text": [
      "Using TensorFlow backend.\n"
     ]
    }
   ],
   "source": [
    "from keras.models import Sequential\n",
    "from keras.layers.convolutional import Conv2D, MaxPooling2D\n",
    "from keras.layers.core import Activation, Flatten, Dense, Dropout"
   ]
  },
  {
   "cell_type": "code",
   "execution_count": 10,
   "metadata": {},
   "outputs": [
    {
     "name": "stderr",
     "output_type": "stream",
     "text": [
      "C:\\Users\\shilp\\Anaconda3\\lib\\site-packages\\ipykernel_launcher.py:3: UserWarning: Update your `Conv2D` call to the Keras 2 API: `Conv2D(input_shape=(100, 100,..., kernel_size=(3, 3), filters=32)`\n",
      "  This is separate from the ipykernel package so we can avoid doing imports until\n",
      "C:\\Users\\shilp\\Anaconda3\\lib\\site-packages\\ipykernel_launcher.py:8: UserWarning: Update your `Conv2D` call to the Keras 2 API: `Conv2D(activation=\"relu\", kernel_size=(3, 3), filters=64)`\n",
      "  \n",
      "C:\\Users\\shilp\\Anaconda3\\lib\\site-packages\\ipykernel_launcher.py:12: UserWarning: Update your `Conv2D` call to the Keras 2 API: `Conv2D(activation=\"relu\", kernel_size=(3, 3), filters=128)`\n",
      "  if sys.path[0] == '':\n"
     ]
    }
   ],
   "source": [
    "#Initialize the keras model\n",
    "model = Sequential()\n",
    "model.add(Conv2D(nb_filter=32,nb_row=3,nb_col=3,input_shape = (100,100,3)))\n",
    "model.add(Activation(\"relu\"))\n",
    "model.add(MaxPooling2D(pool_size=(2, 2),strides=(2,2)))\n",
    "model.add(Dropout(0.2))\n",
    "\n",
    "model.add(Conv2D(nb_filter=64,nb_row=3,nb_col=3, activation='relu'))\n",
    "model.add(MaxPooling2D(pool_size=(2, 2),strides=(2,2)))\n",
    "model.add(Dropout(0.2))\n",
    "\n",
    "model.add(Conv2D(nb_filter=128,nb_row=3,nb_col=3, activation='relu'))\n",
    "model.add(MaxPooling2D(pool_size=(2, 2),strides=(2,2)))\n",
    "model.add(Dropout(0.2))\n",
    "\n",
    "model.add(Flatten())\n",
    "model.add(Dense(128, activation='relu'))\n",
    "model.add(Dense(1, activation='sigmoid'))"
   ]
  },
  {
   "cell_type": "code",
   "execution_count": 12,
   "metadata": {},
   "outputs": [],
   "source": [
    "#Compiling the model with cross entropy loss and Adadelta optimizer\n",
    "import keras\n",
    "model.compile(loss=\"binary_crossentropy\",optimizer=keras.optimizers.Adam(lr=0.001),metrics=['accuracy'])"
   ]
  },
  {
   "cell_type": "code",
   "execution_count": 13,
   "metadata": {},
   "outputs": [
    {
     "name": "stdout",
     "output_type": "stream",
     "text": [
      "_________________________________________________________________\n",
      "Layer (type)                 Output Shape              Param #   \n",
      "=================================================================\n",
      "conv2d_4 (Conv2D)            (None, 98, 98, 32)        896       \n",
      "_________________________________________________________________\n",
      "activation_2 (Activation)    (None, 98, 98, 32)        0         \n",
      "_________________________________________________________________\n",
      "max_pooling2d_4 (MaxPooling2 (None, 49, 49, 32)        0         \n",
      "_________________________________________________________________\n",
      "dropout_4 (Dropout)          (None, 49, 49, 32)        0         \n",
      "_________________________________________________________________\n",
      "conv2d_5 (Conv2D)            (None, 47, 47, 64)        18496     \n",
      "_________________________________________________________________\n",
      "max_pooling2d_5 (MaxPooling2 (None, 23, 23, 64)        0         \n",
      "_________________________________________________________________\n",
      "dropout_5 (Dropout)          (None, 23, 23, 64)        0         \n",
      "_________________________________________________________________\n",
      "conv2d_6 (Conv2D)            (None, 21, 21, 128)       73856     \n",
      "_________________________________________________________________\n",
      "max_pooling2d_6 (MaxPooling2 (None, 10, 10, 128)       0         \n",
      "_________________________________________________________________\n",
      "dropout_6 (Dropout)          (None, 10, 10, 128)       0         \n",
      "_________________________________________________________________\n",
      "flatten_2 (Flatten)          (None, 12800)             0         \n",
      "_________________________________________________________________\n",
      "dense_3 (Dense)              (None, 128)               1638528   \n",
      "_________________________________________________________________\n",
      "dense_4 (Dense)              (None, 1)                 129       \n",
      "=================================================================\n",
      "Total params: 1,731,905\n",
      "Trainable params: 1,731,905\n",
      "Non-trainable params: 0\n",
      "_________________________________________________________________\n"
     ]
    }
   ],
   "source": [
    "\n",
    "model.summary()"
   ]
  },
  {
   "cell_type": "code",
   "execution_count": 15,
   "metadata": {},
   "outputs": [
    {
     "name": "stdout",
     "output_type": "stream",
     "text": [
      "Train on 7200 samples, validate on 1800 samples\n",
      "Epoch 1/25\n",
      "7200/7200 [==============================] - 115s 16ms/step - loss: 0.6977 - acc: 0.4950 - val_loss: 0.6908 - val_acc: 0.5022\n",
      "Epoch 2/25\n",
      "7200/7200 [==============================] - 114s 16ms/step - loss: 0.6920 - acc: 0.5244 - val_loss: 0.6903 - val_acc: 0.5861\n",
      "Epoch 3/25\n",
      "7200/7200 [==============================] - 114s 16ms/step - loss: 0.6795 - acc: 0.5589 - val_loss: 0.6664 - val_acc: 0.5933\n",
      "Epoch 4/25\n",
      "7200/7200 [==============================] - 116s 16ms/step - loss: 0.6501 - acc: 0.6049 - val_loss: 0.6362 - val_acc: 0.6061\n",
      "Epoch 5/25\n",
      "7200/7200 [==============================] - 115s 16ms/step - loss: 0.6103 - acc: 0.6551 - val_loss: 0.5888 - val_acc: 0.6722\n",
      "Epoch 6/25\n",
      "7200/7200 [==============================] - 113s 16ms/step - loss: 0.5722 - acc: 0.6936 - val_loss: 0.5437 - val_acc: 0.7200\n",
      "Epoch 7/25\n",
      "7200/7200 [==============================] - 115s 16ms/step - loss: 0.5402 - acc: 0.7260 - val_loss: 0.5215 - val_acc: 0.7311\n",
      "Epoch 8/25\n",
      "7200/7200 [==============================] - 115s 16ms/step - loss: 0.5183 - acc: 0.7369 - val_loss: 0.5239 - val_acc: 0.7467\n",
      "Epoch 9/25\n",
      "7200/7200 [==============================] - 119s 17ms/step - loss: 0.4813 - acc: 0.7676 - val_loss: 0.5122 - val_acc: 0.7472\n",
      "Epoch 10/25\n",
      "7200/7200 [==============================] - 116s 16ms/step - loss: 0.4623 - acc: 0.7819 - val_loss: 0.4764 - val_acc: 0.7733\n",
      "Epoch 11/25\n",
      "7200/7200 [==============================] - 115s 16ms/step - loss: 0.4294 - acc: 0.8037 - val_loss: 0.4436 - val_acc: 0.7867\n",
      "Epoch 12/25\n",
      "7200/7200 [==============================] - 114s 16ms/step - loss: 0.4046 - acc: 0.8183 - val_loss: 0.4562 - val_acc: 0.7772\n",
      "Epoch 13/25\n",
      "7200/7200 [==============================] - 114s 16ms/step - loss: 0.3775 - acc: 0.8307 - val_loss: 0.4306 - val_acc: 0.8028\n",
      "Epoch 14/25\n",
      "7200/7200 [==============================] - 114s 16ms/step - loss: 0.3637 - acc: 0.8379 - val_loss: 0.4303 - val_acc: 0.7939\n",
      "Epoch 15/25\n",
      "7200/7200 [==============================] - 115s 16ms/step - loss: 0.3430 - acc: 0.8464 - val_loss: 0.4239 - val_acc: 0.8106\n",
      "Epoch 16/25\n",
      "7200/7200 [==============================] - 117s 16ms/step - loss: 0.3067 - acc: 0.8660 - val_loss: 0.4177 - val_acc: 0.8161\n",
      "Epoch 17/25\n",
      "7200/7200 [==============================] - 117s 16ms/step - loss: 0.2802 - acc: 0.8792 - val_loss: 0.4199 - val_acc: 0.8083\n",
      "Epoch 18/25\n",
      "7200/7200 [==============================] - 117s 16ms/step - loss: 0.2681 - acc: 0.8860 - val_loss: 0.4205 - val_acc: 0.8083\n",
      "Epoch 19/25\n",
      "7200/7200 [==============================] - 94s 13ms/step - loss: 0.2426 - acc: 0.8964 - val_loss: 0.4152 - val_acc: 0.8161\n",
      "Epoch 20/25\n",
      "7200/7200 [==============================] - 95s 13ms/step - loss: 0.2229 - acc: 0.9089 - val_loss: 0.4084 - val_acc: 0.8267\n",
      "Epoch 21/25\n",
      "7200/7200 [==============================] - 95s 13ms/step - loss: 0.2032 - acc: 0.9157 - val_loss: 0.4459 - val_acc: 0.8194\n",
      "Epoch 22/25\n",
      "7200/7200 [==============================] - 97s 13ms/step - loss: 0.1888 - acc: 0.9229 - val_loss: 0.4575 - val_acc: 0.8200\n",
      "Epoch 23/25\n",
      "7200/7200 [==============================] - 94s 13ms/step - loss: 0.1766 - acc: 0.9268 - val_loss: 0.4522 - val_acc: 0.8261\n",
      "Epoch 24/25\n",
      "7200/7200 [==============================] - 99s 14ms/step - loss: 0.1606 - acc: 0.9368 - val_loss: 0.4569 - val_acc: 0.8267\n",
      "Epoch 25/25\n",
      "7200/7200 [==============================] - 100s 14ms/step - loss: 0.1392 - acc: 0.9429 - val_loss: 0.4828 - val_acc: 0.8217\n"
     ]
    }
   ],
   "source": [
    "batch_size = 200\n",
    "epochs = 25\n",
    "#Actual training the model\n",
    "history = model.fit(x_train, y_train,\n",
    "          batch_size=batch_size,\n",
    "          epochs=epochs,\n",
    "          verbose=1,\n",
    "          validation_split=0 .2)"
   ]
  },
  {
   "cell_type": "code",
   "execution_count": 16,
   "metadata": {},
   "outputs": [
    {
     "name": "stdout",
     "output_type": "stream",
     "text": [
      "1000/1000 [==============================] - 5s 5ms/step\n",
      "LOSS:\n",
      "0.5578986740112305\n",
      "precision:\n",
      "0.795\n"
     ]
    }
   ],
   "source": [
    "#to check precision\n",
    "score = model.evaluate(x_test,y_test)\n",
    "print(\"LOSS:\")\n",
    "print(score[0])\n",
    "print(\"precision:\")         \n",
    "print(score[1])"
   ]
  },
  {
   "cell_type": "code",
   "execution_count": 23,
   "metadata": {},
   "outputs": [
    {
     "data": {
      "image/png": "[encoded data removed]",
      "text/plain": [
       "<Figure size 432x288 with 1 Axes>"
      ]
     },
     "metadata": {
      "needs_background": "light"
     },
     "output_type": "display_data"
    }
   ],
   "source": [
    "import matplotlib.pyplot as plt\n",
    "plt.plot(history.history['acc'])\n",
    "plt.plot(history.history['val_acc'])\n",
    "plt.title('model accuracy')\n",
    "plt.ylabel('accuracy')\n",
    "plt.xlabel('epoch')\n",
    "plt.legend(['train', 'valid'], loc='upper left')\n",
    "plt.show()"
   ]
  },
  {
   "cell_type": "code",
   "execution_count": null,
   "metadata": {},
   "outputs": [],
   "source": [
    "#model accuracy increase in thisc model"
   ]
  },
  {
   "cell_type": "code",
   "execution_count": null,
   "metadata": {},
   "outputs": [],
   "source": []
  },
  {
   "cell_type": "code",
   "execution_count": null,
   "metadata": {},
   "outputs": [],
   "source": []
  },
  {
   "cell_type": "code",
   "execution_count": null,
   "metadata": {},
   "outputs": [],
   "source": []
  },
  {
   "cell_type": "code",
   "execution_count": null,
   "metadata": {},
   "outputs": [],
   "source": []
  },
  {
   "cell_type": "code",
   "execution_count": null,
   "metadata": {},
   "outputs": [],
   "source": [
    "\n"
   ]
  },
  {
   "cell_type": "code",
   "execution_count": null,
   "metadata": {},
   "outputs": [],
   "source": []
  },
  {
   "cell_type": "code",
   "execution_count": null,
   "metadata": {},
   "outputs": [],
   "source": [
    " "
   ]
  }
 ],
 "metadata": {
  "kernelspec": {
   "display_name": "Python 3",
   "language": "python",
   "name": "python3"
  }
 },
 "nbformat": 4,
 "nbformat_minor": 2
}
